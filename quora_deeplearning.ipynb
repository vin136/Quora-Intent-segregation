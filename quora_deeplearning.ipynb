{
 "cells": [
  {
   "cell_type": "code",
   "execution_count": 5,
   "metadata": {
    "colab": {
     "base_uri": "https://localhost:8080/",
     "height": 128
    },
    "colab_type": "code",
    "id": "33W3Am238vD5",
    "outputId": "0a2bdc33-4fab-4cc6-8308-7e25678a0cf8"
   },
   "outputs": [
    {
     "name": "stdout",
     "output_type": "stream",
     "text": [
      "Go to this URL in a browser: https://accounts.google.com/o/oauth2/auth?client_id=947318989803-6bn6qk8qdgf4n4g3pfee6491hc0brc4i.apps.googleusercontent.com&redirect_uri=urn%3Aietf%3Awg%3Aoauth%3A2.0%3Aoob&scope=email%20https%3A%2F%2Fwww.googleapis.com%2Fauth%2Fdocs.test%20https%3A%2F%2Fwww.googleapis.com%2Fauth%2Fdrive%20https%3A%2F%2Fwww.googleapis.com%2Fauth%2Fdrive.photos.readonly%20https%3A%2F%2Fwww.googleapis.com%2Fauth%2Fpeopleapi.readonly&response_type=code\n",
      "\n",
      "Enter your authorization code:\n",
      "··········\n",
      "Mounted at /content/gdrive\n"
     ]
    }
   ],
   "source": [
    "from google.colab import drive\n",
    "drive.mount('/content/gdrive')"
   ]
  },
  {
   "cell_type": "code",
   "execution_count": 0,
   "metadata": {
    "colab": {},
    "colab_type": "code",
    "id": "DOCKS4eI9O5d"
   },
   "outputs": [],
   "source": [
    "\n"
   ]
  },
  {
   "cell_type": "code",
   "execution_count": 16,
   "metadata": {
    "colab": {
     "base_uri": "https://localhost:8080/",
     "height": 181
    },
    "colab_type": "code",
    "id": "9_P4vRVp96-t",
    "outputId": "4372d993-f815-4e1d-b10c-4a1bd7056224"
   },
   "outputs": [
    {
     "name": "stdout",
     "output_type": "stream",
     "text": [
      "1.Quora.ipynb\t\t\t       nlp_feat_linear.csv\n",
      "2.Quora_Preprocessing.ipynb\t       nlp_features_train.csv\n",
      "3.Q_Mean_W2V.ipynb\t\t       sparse_lr.pckl\n",
      "4.ML_models.ipynb\t\t       sparse_lr_y.pckl\n",
      "APPLIED_AI_QUORASUBMISSION.ipynb       train.csv\n",
      "df_fe_without_preprocessing_train.csv  train.db\n",
      "distance\t\t\t       train_n.txt\n",
      "Distance-0.1.3.tar.gz\t\t       train_p.txt\n",
      "final_features.csv\t\t       wordcloud-1.3.3-cp36-cp36m-win_amd64.whl\n"
     ]
    }
   ],
   "source": [
    "!ls \"/content/gdrive/My Drive/quora/data/train.csv\""
   ]
  },
  {
   "cell_type": "code",
   "execution_count": 0,
   "metadata": {
    "colab": {},
    "colab_type": "code",
    "id": "nxvm1Mo2-Edn"
   },
   "outputs": [],
   "source": [
    "path = \"/content/gdrive/My Drive/quora/data/train.csv\"\n",
    "save_path = \"/content/gdrive/My Drive/quora/data/\""
   ]
  },
  {
   "cell_type": "code",
   "execution_count": 0,
   "metadata": {
    "colab": {},
    "colab_type": "code",
    "id": "pLmntn3NATZo"
   },
   "outputs": [],
   "source": [
    "import pandas as pd\n"
   ]
  },
  {
   "cell_type": "code",
   "execution_count": 0,
   "metadata": {
    "colab": {},
    "colab_type": "code",
    "id": "PwF8rgemAgYY"
   },
   "outputs": [],
   "source": [
    "data = pd.read_csv(path)"
   ]
  },
  {
   "cell_type": "code",
   "execution_count": 127,
   "metadata": {
    "colab": {
     "base_uri": "https://localhost:8080/",
     "height": 108
    },
    "colab_type": "code",
    "id": "QZw7tFu2Aj-7",
    "outputId": "37794f0a-4d4f-40b2-b625-921e8cf85cd5"
   },
   "outputs": [
    {
     "data": {
      "text/html": [
       "<div>\n",
       "<style scoped>\n",
       "    .dataframe tbody tr th:only-of-type {\n",
       "        vertical-align: middle;\n",
       "    }\n",
       "\n",
       "    .dataframe tbody tr th {\n",
       "        vertical-align: top;\n",
       "    }\n",
       "\n",
       "    .dataframe thead th {\n",
       "        text-align: right;\n",
       "    }\n",
       "</style>\n",
       "<table border=\"1\" class=\"dataframe\">\n",
       "  <thead>\n",
       "    <tr style=\"text-align: right;\">\n",
       "      <th></th>\n",
       "      <th>id</th>\n",
       "      <th>qid1</th>\n",
       "      <th>qid2</th>\n",
       "      <th>question1</th>\n",
       "      <th>question2</th>\n",
       "      <th>is_duplicate</th>\n",
       "    </tr>\n",
       "  </thead>\n",
       "  <tbody>\n",
       "    <tr>\n",
       "      <th>0</th>\n",
       "      <td>0</td>\n",
       "      <td>1</td>\n",
       "      <td>2</td>\n",
       "      <td>What is the step by step guide to invest in sh...</td>\n",
       "      <td>What is the step by step guide to invest in sh...</td>\n",
       "      <td>0</td>\n",
       "    </tr>\n",
       "    <tr>\n",
       "      <th>1</th>\n",
       "      <td>1</td>\n",
       "      <td>3</td>\n",
       "      <td>4</td>\n",
       "      <td>What is the story of Kohinoor (Koh-i-Noor) Dia...</td>\n",
       "      <td>What would happen if the Indian government sto...</td>\n",
       "      <td>0</td>\n",
       "    </tr>\n",
       "  </tbody>\n",
       "</table>\n",
       "</div>"
      ],
      "text/plain": [
       "   id  qid1  qid2                                          question1  \\\n",
       "0   0     1     2  What is the step by step guide to invest in sh...   \n",
       "1   1     3     4  What is the story of Kohinoor (Koh-i-Noor) Dia...   \n",
       "\n",
       "                                           question2  is_duplicate  \n",
       "0  What is the step by step guide to invest in sh...             0  \n",
       "1  What would happen if the Indian government sto...             0  "
      ]
     },
     "execution_count": 127,
     "metadata": {
      "tags": []
     },
     "output_type": "execute_result"
    }
   ],
   "source": [
    "data.head(2)"
   ]
  },
  {
   "cell_type": "code",
   "execution_count": 128,
   "metadata": {
    "colab": {
     "base_uri": "https://localhost:8080/",
     "height": 168
    },
    "colab_type": "code",
    "id": "W-ROdYPVndYr",
    "outputId": "df960b4e-b88f-4975-e8d9-a065cfad7339"
   },
   "outputs": [
    {
     "data": {
      "text/html": [
       "<div>\n",
       "<style scoped>\n",
       "    .dataframe tbody tr th:only-of-type {\n",
       "        vertical-align: middle;\n",
       "    }\n",
       "\n",
       "    .dataframe tbody tr th {\n",
       "        vertical-align: top;\n",
       "    }\n",
       "\n",
       "    .dataframe thead th {\n",
       "        text-align: right;\n",
       "    }\n",
       "</style>\n",
       "<table border=\"1\" class=\"dataframe\">\n",
       "  <thead>\n",
       "    <tr style=\"text-align: right;\">\n",
       "      <th></th>\n",
       "      <th>id</th>\n",
       "      <th>qid1</th>\n",
       "      <th>qid2</th>\n",
       "      <th>question1</th>\n",
       "      <th>question2</th>\n",
       "      <th>is_duplicate</th>\n",
       "    </tr>\n",
       "  </thead>\n",
       "  <tbody>\n",
       "    <tr>\n",
       "      <th>404286</th>\n",
       "      <td>404286</td>\n",
       "      <td>18840</td>\n",
       "      <td>155606</td>\n",
       "      <td>Do you believe there is life after death?</td>\n",
       "      <td>Is it true that there is life after death?</td>\n",
       "      <td>1</td>\n",
       "    </tr>\n",
       "    <tr>\n",
       "      <th>404287</th>\n",
       "      <td>404287</td>\n",
       "      <td>537928</td>\n",
       "      <td>537929</td>\n",
       "      <td>What is one coin?</td>\n",
       "      <td>What's this coin?</td>\n",
       "      <td>0</td>\n",
       "    </tr>\n",
       "    <tr>\n",
       "      <th>404288</th>\n",
       "      <td>404288</td>\n",
       "      <td>537930</td>\n",
       "      <td>537931</td>\n",
       "      <td>What is the approx annual cost of living while...</td>\n",
       "      <td>I am having little hairfall problem but I want...</td>\n",
       "      <td>0</td>\n",
       "    </tr>\n",
       "    <tr>\n",
       "      <th>404289</th>\n",
       "      <td>404289</td>\n",
       "      <td>537932</td>\n",
       "      <td>537933</td>\n",
       "      <td>What is like to have sex with cousin?</td>\n",
       "      <td>What is it like to have sex with your cousin?</td>\n",
       "      <td>0</td>\n",
       "    </tr>\n",
       "  </tbody>\n",
       "</table>\n",
       "</div>"
      ],
      "text/plain": [
       "            id    qid1    qid2  \\\n",
       "404286  404286   18840  155606   \n",
       "404287  404287  537928  537929   \n",
       "404288  404288  537930  537931   \n",
       "404289  404289  537932  537933   \n",
       "\n",
       "                                                question1  \\\n",
       "404286          Do you believe there is life after death?   \n",
       "404287                                  What is one coin?   \n",
       "404288  What is the approx annual cost of living while...   \n",
       "404289              What is like to have sex with cousin?   \n",
       "\n",
       "                                                question2  is_duplicate  \n",
       "404286         Is it true that there is life after death?             1  \n",
       "404287                                  What's this coin?             0  \n",
       "404288  I am having little hairfall problem but I want...             0  \n",
       "404289      What is it like to have sex with your cousin?             0  "
      ]
     },
     "execution_count": 128,
     "metadata": {
      "tags": []
     },
     "output_type": "execute_result"
    }
   ],
   "source": [
    "data.tail(4)"
   ]
  },
  {
   "cell_type": "code",
   "execution_count": 21,
   "metadata": {
    "colab": {
     "base_uri": "https://localhost:8080/",
     "height": 35
    },
    "colab_type": "code",
    "id": "5BXE9ejbAlg9",
    "outputId": "66d32fc4-6d35-4a3e-d788-9a946b5ad0b1"
   },
   "outputs": [
    {
     "data": {
      "text/plain": [
       "404290"
      ]
     },
     "execution_count": 21,
     "metadata": {
      "tags": []
     },
     "output_type": "execute_result"
    }
   ],
   "source": [
    "len(data)"
   ]
  },
  {
   "cell_type": "code",
   "execution_count": 9,
   "metadata": {
    "colab": {
     "base_uri": "https://localhost:8080/",
     "height": 35
    },
    "colab_type": "code",
    "id": "YRTRclWEAp5f",
    "outputId": "eec73041-d404-422a-d9c6-57dcca33525a"
   },
   "outputs": [
    {
     "name": "stderr",
     "output_type": "stream",
     "text": [
      "Using TensorFlow backend.\n"
     ]
    }
   ],
   "source": [
    "from keras.preprocessing.text import Tokenizer\n",
    "from keras.preprocessing.sequence import pad_sequences"
   ]
  },
  {
   "cell_type": "code",
   "execution_count": 0,
   "metadata": {
    "colab": {},
    "colab_type": "code",
    "id": "g1NGIcPECj6X"
   },
   "outputs": [],
   "source": [
    "\n",
    "tokenizer = Tokenizer(num_words=None, filters='!\"#$%&()*+,-./:;<=>?@[\\]^_`{|}~ ', lower=True, split=' ', char_level=False, oov_token='unk')\n"
   ]
  },
  {
   "cell_type": "code",
   "execution_count": 0,
   "metadata": {
    "colab": {},
    "colab_type": "code",
    "id": "1mOl_ZN-RgUV"
   },
   "outputs": [],
   "source": [
    "#slight aside"
   ]
  },
  {
   "cell_type": "code",
   "execution_count": 0,
   "metadata": {
    "colab": {},
    "colab_type": "code",
    "id": "iiYmtTTGExHF"
   },
   "outputs": [],
   "source": [
    "texts = data['question1'].astype('str').tolist()"
   ]
  },
  {
   "cell_type": "code",
   "execution_count": 0,
   "metadata": {
    "colab": {},
    "colab_type": "code",
    "id": "mYnV1Se7Rlox"
   },
   "outputs": [],
   "source": [
    "import numpy as np\n",
    "texts[0]\n",
    "labels = np.asarray(data['is_duplicate'])"
   ]
  },
  {
   "cell_type": "code",
   "execution_count": 0,
   "metadata": {
    "colab": {},
    "colab_type": "code",
    "id": "W9ErLWzzSks3"
   },
   "outputs": [],
   "source": [
    "labels = labels.tolist()"
   ]
  },
  {
   "cell_type": "code",
   "execution_count": 18,
   "metadata": {
    "colab": {
     "base_uri": "https://localhost:8080/",
     "height": 35
    },
    "colab_type": "code",
    "id": "F1X1huJQS5Om",
    "outputId": "acdc7771-4c61-41e8-f7d2-3c05332c54d4"
   },
   "outputs": [
    {
     "data": {
      "text/plain": [
       "[0, 0, 0]"
      ]
     },
     "execution_count": 18,
     "metadata": {
      "tags": []
     },
     "output_type": "execute_result"
    }
   ],
   "source": [
    "labels[0:3]"
   ]
  },
  {
   "cell_type": "code",
   "execution_count": 0,
   "metadata": {
    "colab": {},
    "colab_type": "code",
    "id": "JEqRJ5pDRs6B"
   },
   "outputs": [],
   "source": [
    "textsq2 = data['question2'].astype('str').tolist()\n",
    "\n",
    "equalizedq1 = []\n",
    "equalizedq2 = []\n",
    "new_labels = []\n",
    "for que1,que2,labels in zip(texts,textsq2,labels):\n",
    "  if len(que1.split()) <= 30 and len(que2.split()) <= 30:\n",
    "    equalizedq1.append(que1)\n",
    "    equalizedq2.append(que2)\n",
    "    new_labels.append(labels)\n",
    "  "
   ]
  },
  {
   "cell_type": "code",
   "execution_count": 23,
   "metadata": {
    "colab": {
     "base_uri": "https://localhost:8080/",
     "height": 35
    },
    "colab_type": "code",
    "id": "7_lLdQ5ETfE2",
    "outputId": "3d8e6239-e2b1-41af-c9d8-41259c7dcfa9"
   },
   "outputs": [
    {
     "data": {
      "text/plain": [
       "396450"
      ]
     },
     "execution_count": 23,
     "metadata": {
      "tags": []
     },
     "output_type": "execute_result"
    }
   ],
   "source": [
    "len(equalizedq1)"
   ]
  },
  {
   "cell_type": "code",
   "execution_count": 0,
   "metadata": {
    "colab": {},
    "colab_type": "code",
    "id": "vy9nyTe0UB0A"
   },
   "outputs": [],
   "source": [
    "tokenizer.fit_on_texts(texts)"
   ]
  },
  {
   "cell_type": "code",
   "execution_count": 33,
   "metadata": {
    "colab": {
     "base_uri": "https://localhost:8080/",
     "height": 35
    },
    "colab_type": "code",
    "id": "OkjiDTlnUB9K",
    "outputId": "b2b9af22-6882-4183-9f50-df9860ed7244"
   },
   "outputs": [
    {
     "data": {
      "text/plain": [
       "396450"
      ]
     },
     "execution_count": 33,
     "metadata": {
      "tags": []
     },
     "output_type": "execute_result"
    }
   ],
   "source": [
    "len(new_labels)"
   ]
  },
  {
   "cell_type": "code",
   "execution_count": 0,
   "metadata": {
    "colab": {},
    "colab_type": "code",
    "id": "kWQ2kM7-UCAo"
   },
   "outputs": [],
   "source": []
  },
  {
   "cell_type": "code",
   "execution_count": 0,
   "metadata": {
    "colab": {},
    "colab_type": "code",
    "id": "Y3D-AWQlUCFk"
   },
   "outputs": [],
   "source": []
  },
  {
   "cell_type": "code",
   "execution_count": 0,
   "metadata": {
    "colab": {},
    "colab_type": "code",
    "id": "waJ3TDmgTjWC"
   },
   "outputs": [],
   "source": []
  },
  {
   "cell_type": "code",
   "execution_count": 0,
   "metadata": {
    "colab": {},
    "colab_type": "code",
    "id": "zKH1L1kmOOte"
   },
   "outputs": [],
   "source": [
    "tokenizer.fit_on_texts(equalizedq1)\n",
    "sequencesq1 = tokenizer.texts_to_sequences(equalizedq1)\n",
    "word_indexq1 = tokenizer.word_index\n",
    "\n",
    "tokenizer.fit_on_texts(equalizedq2)\n",
    "sequencesq2 = tokenizer.texts_to_sequences(equalizedq2)\n",
    "word_indexq2 = tokenizer.word_index\n",
    "\n"
   ]
  },
  {
   "cell_type": "code",
   "execution_count": 0,
   "metadata": {
    "colab": {},
    "colab_type": "code",
    "id": "1p37XBJSUzfR"
   },
   "outputs": [],
   "source": [
    "\n",
    "question2 = pad_sequences(sequencesq2, maxlen=30)"
   ]
  },
  {
   "cell_type": "code",
   "execution_count": 0,
   "metadata": {
    "colab": {},
    "colab_type": "code",
    "id": "h732FkpQVBAa"
   },
   "outputs": [],
   "source": [
    "question1  = pad_sequences(sequencesq1,maxlen = 30)"
   ]
  },
  {
   "cell_type": "code",
   "execution_count": 48,
   "metadata": {
    "colab": {
     "base_uri": "https://localhost:8080/",
     "height": 35
    },
    "colab_type": "code",
    "id": "Rj6y2wjbWtnQ",
    "outputId": "595d8bef-e159-46fd-fa8b-19ad177625a2"
   },
   "outputs": [
    {
     "data": {
      "text/plain": [
       "396450"
      ]
     },
     "execution_count": 48,
     "metadata": {
      "tags": []
     },
     "output_type": "execute_result"
    }
   ],
   "source": [
    "len(question2)"
   ]
  },
  {
   "cell_type": "code",
   "execution_count": 50,
   "metadata": {
    "colab": {
     "base_uri": "https://localhost:8080/",
     "height": 35
    },
    "colab_type": "code",
    "id": "oSGt9DiOWvWH",
    "outputId": "d12190d9-6a90-4e1b-8e40-836e9029c94b"
   },
   "outputs": [
    {
     "data": {
      "text/plain": [
       "(396450, 30)"
      ]
     },
     "execution_count": 50,
     "metadata": {
      "tags": []
     },
     "output_type": "execute_result"
    }
   ],
   "source": [
    "question2.shape"
   ]
  },
  {
   "cell_type": "code",
   "execution_count": 0,
   "metadata": {
    "colab": {},
    "colab_type": "code",
    "id": "V0Md8L1hVBD8"
   },
   "outputs": [],
   "source": [
    "#let's make a simple network for these\n",
    "\n",
    "X_validq1 = question1[:80000,:]\n",
    "X_validq2 = question2[:80000,:]\n",
    "question1 = question1[80000:,:]\n",
    "question2 = question2[80000:,:]\n",
    "\n",
    "y_valid = new_labels[:80000]\n",
    "labels = new_labels[80000:]"
   ]
  },
  {
   "cell_type": "code",
   "execution_count": 52,
   "metadata": {
    "colab": {
     "base_uri": "https://localhost:8080/",
     "height": 35
    },
    "colab_type": "code",
    "id": "zVvfZV7SXcO6",
    "outputId": "c8bcd904-7216-4fb3-fc20-ea9666915fff"
   },
   "outputs": [
    {
     "data": {
      "text/plain": [
       "(80000, 80000, 316450, 316450)"
      ]
     },
     "execution_count": 52,
     "metadata": {
      "tags": []
     },
     "output_type": "execute_result"
    }
   ],
   "source": [
    "len(y_valid),len(X_validq1),len(question1),len(labels)"
   ]
  },
  {
   "cell_type": "code",
   "execution_count": 0,
   "metadata": {
    "colab": {},
    "colab_type": "code",
    "id": "ha1OrylvVBG_"
   },
   "outputs": [],
   "source": [
    "n_lstm_1 = 100\n",
    "drop_lstm = 0.3\n",
    "drop_embed = 0.3\n",
    "\n",
    "vocab1 = len(word_indexq1)\n",
    "vocab2 = len(word_indexq2)\n",
    "\n",
    "qu1_input = Input(shape = (30,))\n",
    "#drop1 = SpatialDropout1D(drop_embed)(qu1_input)\n",
    "#drop1 = SpatialDropout1D(drop_embed)(qu1_input)\n",
    "emb1 = Embedding(vocab1,64)(qu1_input)\n",
    "\n",
    "qu2_input = Input(shape = (30,))\n",
    "\n",
    "#drop2 = SpatialDropout1D(drop_embed)(qu2_input)\n",
    "emb2 = Embedding(vocab2,64)(qu2_input)\n",
    "\n",
    "\n",
    "core = Bidirectional(LSTM(64, dropout=drop_lstm ))\n",
    "\n",
    "# out_core = Bidirectional(LSTM(n_lstm_1, dropout=drop_lstm))\n",
    "\n",
    "out1 = core(emb1)\n",
    "\n",
    "# out_further_1 = out_core(out1)\n",
    "out2 = core(emb2)\n",
    "\n",
    "\n",
    "\n",
    "\n",
    "merged = concatenate([out1,out2])\n",
    "predictions = Dense(1,activation = 'sigmoid')(merged)\n",
    "\n",
    "model = Model([qu1_input, qu2_input], predictions)"
   ]
  },
  {
   "cell_type": "code",
   "execution_count": 56,
   "metadata": {
    "colab": {
     "base_uri": "https://localhost:8080/",
     "height": 35
    },
    "colab_type": "code",
    "id": "jydEZDMnXpvW",
    "outputId": "aa2016af-8480-4102-f646-c4a19492a0a6"
   },
   "outputs": [
    {
     "data": {
      "text/plain": [
       "(316450, 316450)"
      ]
     },
     "execution_count": 56,
     "metadata": {
      "tags": []
     },
     "output_type": "execute_result"
    }
   ],
   "source": [
    "len(question1),len(question2)"
   ]
  },
  {
   "cell_type": "code",
   "execution_count": 55,
   "metadata": {
    "colab": {
     "base_uri": "https://localhost:8080/",
     "height": 35
    },
    "colab_type": "code",
    "id": "gI-zaLs7Xs0f",
    "outputId": "ffbc65c4-c35e-4641-d80e-4a5e41f89f89"
   },
   "outputs": [
    {
     "data": {
      "text/plain": [
       "316450"
      ]
     },
     "execution_count": 55,
     "metadata": {
      "tags": []
     },
     "output_type": "execute_result"
    }
   ],
   "source": [
    "len(labels)"
   ]
  },
  {
   "cell_type": "code",
   "execution_count": 0,
   "metadata": {
    "colab": {},
    "colab_type": "code",
    "id": "mQBBBHx2XvGc"
   },
   "outputs": [],
   "source": []
  },
  {
   "cell_type": "code",
   "execution_count": 58,
   "metadata": {
    "colab": {
     "base_uri": "https://localhost:8080/",
     "height": 472
    },
    "colab_type": "code",
    "id": "Rlz9XDs0VBJ0",
    "outputId": "50cd0abf-371c-4edc-c9aa-c4ffb7ea4059"
   },
   "outputs": [
    {
     "name": "stdout",
     "output_type": "stream",
     "text": [
      "Train on 316450 samples, validate on 80000 samples\n",
      "Epoch 1/12\n",
      "316450/316450 [==============================] - 199s 630us/step - loss: 0.4321 - acc: 0.7967 - val_loss: 0.4990 - val_acc: 0.7634\n",
      "Epoch 2/12\n",
      "316450/316450 [==============================] - 195s 617us/step - loss: 0.3886 - acc: 0.8178 - val_loss: 0.5162 - val_acc: 0.7644\n",
      "Epoch 3/12\n",
      "316450/316450 [==============================] - 195s 618us/step - loss: 0.3455 - acc: 0.8376 - val_loss: 0.5488 - val_acc: 0.7613\n",
      "Epoch 4/12\n",
      "316450/316450 [==============================] - 197s 623us/step - loss: 0.3074 - acc: 0.8571 - val_loss: 0.5815 - val_acc: 0.7617\n",
      "Epoch 5/12\n",
      "316450/316450 [==============================] - 196s 619us/step - loss: 0.2762 - acc: 0.8722 - val_loss: 0.6318 - val_acc: 0.7585\n",
      "Epoch 6/12\n",
      "316450/316450 [==============================] - 196s 620us/step - loss: 0.2498 - acc: 0.8854 - val_loss: 0.6909 - val_acc: 0.7589\n",
      "Epoch 7/12\n",
      "316450/316450 [==============================] - 197s 622us/step - loss: 0.2295 - acc: 0.8953 - val_loss: 0.7290 - val_acc: 0.7574\n",
      "Epoch 8/12\n",
      "316450/316450 [==============================] - 196s 621us/step - loss: 0.2113 - acc: 0.9035 - val_loss: 0.7939 - val_acc: 0.7591\n",
      "Epoch 9/12\n",
      "316450/316450 [==============================] - 196s 621us/step - loss: 0.1953 - acc: 0.9118 - val_loss: 0.8121 - val_acc: 0.7557\n",
      "Epoch 10/12\n",
      "316450/316450 [==============================] - 197s 623us/step - loss: 0.1818 - acc: 0.9185 - val_loss: 0.8895 - val_acc: 0.7551\n",
      "Epoch 11/12\n",
      "316450/316450 [==============================] - 196s 621us/step - loss: 0.1706 - acc: 0.9237 - val_loss: 0.9595 - val_acc: 0.7523\n",
      "Epoch 12/12\n",
      "316450/316450 [==============================] - 195s 617us/step - loss: 0.1595 - acc: 0.9287 - val_loss: 1.0038 - val_acc: 0.7550\n"
     ]
    }
   ],
   "source": [
    "model.compile(loss='binary_crossentropy', optimizer='adam', metrics=['accuracy'])\n",
    "history = model.fit([question1,question2],labels,epochs = 12,batch_size = 512,validation_data = ([X_validq1,X_validq2],y_valid))"
   ]
  },
  {
   "cell_type": "code",
   "execution_count": 0,
   "metadata": {
    "colab": {},
    "colab_type": "code",
    "id": "_tDR_g50VBMo"
   },
   "outputs": [],
   "source": []
  },
  {
   "cell_type": "code",
   "execution_count": 0,
   "metadata": {
    "colab": {},
    "colab_type": "code",
    "id": "qsqV7AgUVBPv"
   },
   "outputs": [],
   "source": []
  },
  {
   "cell_type": "code",
   "execution_count": 0,
   "metadata": {
    "colab": {},
    "colab_type": "code",
    "id": "CNqcgmfvVBSh"
   },
   "outputs": [],
   "source": []
  },
  {
   "cell_type": "code",
   "execution_count": 0,
   "metadata": {
    "colab": {},
    "colab_type": "code",
    "id": "1i6XUyeJOdh-"
   },
   "outputs": [],
   "source": [
    "sequences = tokenizer.texts_to_sequences(texts)\n",
    "word_index = tokenizer.word_index"
   ]
  },
  {
   "cell_type": "code",
   "execution_count": 83,
   "metadata": {
    "colab": {
     "base_uri": "https://localhost:8080/",
     "height": 288
    },
    "colab_type": "code",
    "id": "nLqnI7XgOrwG",
    "outputId": "b2010a3f-9659-4f62-9479-b4c3dc35c35e"
   },
   "outputs": [
    {
     "data": {
      "text/html": [
       "<div>\n",
       "<style scoped>\n",
       "    .dataframe tbody tr th:only-of-type {\n",
       "        vertical-align: middle;\n",
       "    }\n",
       "\n",
       "    .dataframe tbody tr th {\n",
       "        vertical-align: top;\n",
       "    }\n",
       "\n",
       "    .dataframe thead th {\n",
       "        text-align: right;\n",
       "    }\n",
       "</style>\n",
       "<table border=\"1\" class=\"dataframe\">\n",
       "  <thead>\n",
       "    <tr style=\"text-align: right;\">\n",
       "      <th></th>\n",
       "      <th>0</th>\n",
       "    </tr>\n",
       "  </thead>\n",
       "  <tbody>\n",
       "    <tr>\n",
       "      <th>count</th>\n",
       "      <td>404290.000000</td>\n",
       "    </tr>\n",
       "    <tr>\n",
       "      <th>mean</th>\n",
       "      <td>11.033793</td>\n",
       "    </tr>\n",
       "    <tr>\n",
       "      <th>std</th>\n",
       "      <td>5.499495</td>\n",
       "    </tr>\n",
       "    <tr>\n",
       "      <th>min</th>\n",
       "      <td>0.000000</td>\n",
       "    </tr>\n",
       "    <tr>\n",
       "      <th>25%</th>\n",
       "      <td>7.000000</td>\n",
       "    </tr>\n",
       "    <tr>\n",
       "      <th>50%</th>\n",
       "      <td>10.000000</td>\n",
       "    </tr>\n",
       "    <tr>\n",
       "      <th>75%</th>\n",
       "      <td>13.000000</td>\n",
       "    </tr>\n",
       "    <tr>\n",
       "      <th>max</th>\n",
       "      <td>127.000000</td>\n",
       "    </tr>\n",
       "  </tbody>\n",
       "</table>\n",
       "</div>"
      ],
      "text/plain": [
       "                   0\n",
       "count  404290.000000\n",
       "mean       11.033793\n",
       "std         5.499495\n",
       "min         0.000000\n",
       "25%         7.000000\n",
       "50%        10.000000\n",
       "75%        13.000000\n",
       "max       127.000000"
      ]
     },
     "execution_count": 83,
     "metadata": {
      "tags": []
     },
     "output_type": "execute_result"
    }
   ],
   "source": [
    "pd.DataFrame(np.array([len(seq) for seq in sequences]).reshape((len(sequences),1))).describe() # pad for 20"
   ]
  },
  {
   "cell_type": "code",
   "execution_count": 0,
   "metadata": {
    "colab": {},
    "colab_type": "code",
    "id": "GiTTFhn1E2g6"
   },
   "outputs": [],
   "source": [
    "\n",
    "question1 = pad_sequences(sequences, maxlen=20)\n",
    "\n",
    "labels = np.asarray(data['is_duplicate'])\n",
    "\n",
    "\n",
    "  "
   ]
  },
  {
   "cell_type": "code",
   "execution_count": 0,
   "metadata": {
    "colab": {},
    "colab_type": "code",
    "id": "wj8qC3x9PtjX"
   },
   "outputs": [],
   "source": [
    "\n",
    "tokenizer2 = Tokenizer(num_words=None, filters='!\"#$%&()*+,-./:;<=>?@[\\]^_`{|}~ ', lower=True, split=' ', char_level=False, oov_token='unk')\n",
    "texts2 = data['question2'].astype('str').tolist()\n",
    "tokenizer2.fit_on_texts(texts2)\n",
    "\n",
    "sequences2 = tokenizer.texts_to_sequences(texts2)\n",
    "pd.DataFrame(np.array([len(seq) for seq in sequences2]).reshape((len(sequences2),1))).describe() # pad for 20\n",
    "word_index2 = tokenizer2.word_index"
   ]
  },
  {
   "cell_type": "code",
   "execution_count": 86,
   "metadata": {
    "colab": {
     "base_uri": "https://localhost:8080/",
     "height": 288
    },
    "colab_type": "code",
    "id": "_1C1u9nzQhNI",
    "outputId": "a74503c4-df5e-437d-8271-fa32b0a7ea4a"
   },
   "outputs": [
    {
     "data": {
      "text/html": [
       "<div>\n",
       "<style scoped>\n",
       "    .dataframe tbody tr th:only-of-type {\n",
       "        vertical-align: middle;\n",
       "    }\n",
       "\n",
       "    .dataframe tbody tr th {\n",
       "        vertical-align: top;\n",
       "    }\n",
       "\n",
       "    .dataframe thead th {\n",
       "        text-align: right;\n",
       "    }\n",
       "</style>\n",
       "<table border=\"1\" class=\"dataframe\">\n",
       "  <thead>\n",
       "    <tr style=\"text-align: right;\">\n",
       "      <th></th>\n",
       "      <th>0</th>\n",
       "    </tr>\n",
       "  </thead>\n",
       "  <tbody>\n",
       "    <tr>\n",
       "      <th>count</th>\n",
       "      <td>404290.000000</td>\n",
       "    </tr>\n",
       "    <tr>\n",
       "      <th>mean</th>\n",
       "      <td>11.278891</td>\n",
       "    </tr>\n",
       "    <tr>\n",
       "      <th>std</th>\n",
       "      <td>6.377210</td>\n",
       "    </tr>\n",
       "    <tr>\n",
       "      <th>min</th>\n",
       "      <td>0.000000</td>\n",
       "    </tr>\n",
       "    <tr>\n",
       "      <th>25%</th>\n",
       "      <td>7.000000</td>\n",
       "    </tr>\n",
       "    <tr>\n",
       "      <th>50%</th>\n",
       "      <td>10.000000</td>\n",
       "    </tr>\n",
       "    <tr>\n",
       "      <th>75%</th>\n",
       "      <td>13.000000</td>\n",
       "    </tr>\n",
       "    <tr>\n",
       "      <th>max</th>\n",
       "      <td>237.000000</td>\n",
       "    </tr>\n",
       "  </tbody>\n",
       "</table>\n",
       "</div>"
      ],
      "text/plain": [
       "                   0\n",
       "count  404290.000000\n",
       "mean       11.278891\n",
       "std         6.377210\n",
       "min         0.000000\n",
       "25%         7.000000\n",
       "50%        10.000000\n",
       "75%        13.000000\n",
       "max       237.000000"
      ]
     },
     "execution_count": 86,
     "metadata": {
      "tags": []
     },
     "output_type": "execute_result"
    }
   ],
   "source": [
    "pd.DataFrame(np.array([len(seq) for seq in sequences2]).reshape((len(sequences2),1))).describe()"
   ]
  },
  {
   "cell_type": "code",
   "execution_count": 0,
   "metadata": {
    "colab": {},
    "colab_type": "code",
    "id": "YiYmagsBQaeS"
   },
   "outputs": [],
   "source": [
    "\n",
    "question2 = pad_sequences(sequences2, maxlen=20)\n"
   ]
  },
  {
   "cell_type": "code",
   "execution_count": 0,
   "metadata": {
    "colab": {},
    "colab_type": "code",
    "id": "RVJnmudCV-db"
   },
   "outputs": [],
   "source": [
    "vocab2 = len(word_index2)"
   ]
  },
  {
   "cell_type": "code",
   "execution_count": 0,
   "metadata": {
    "colab": {},
    "colab_type": "code",
    "id": "mPJxA8BKWHhX"
   },
   "outputs": [],
   "source": [
    "vocab1 = len(word_index)"
   ]
  },
  {
   "cell_type": "code",
   "execution_count": 0,
   "metadata": {
    "colab": {},
    "colab_type": "code",
    "id": "Uhy1EL6eWKA2"
   },
   "outputs": [],
   "source": []
  },
  {
   "cell_type": "code",
   "execution_count": 0,
   "metadata": {
    "colab": {},
    "colab_type": "code",
    "id": "IEpHauhbQ-6V"
   },
   "outputs": [],
   "source": [
    "#creating the architecture\n",
    "\n",
    "from keras import Model\n",
    "\n",
    "from keras import Input\n",
    "from keras.datasets import imdb\n",
    "from keras.preprocessing.sequence import pad_sequences\n",
    "from keras.models import Sequential\n",
    "from keras.layers import Dense, Dropout, Embedding, SpatialDropout1D, LSTM,concatenate\n",
    "from keras.layers.wrappers import Bidirectional \n",
    "from keras.callbacks import ModelCheckpoint\n",
    "import os\n",
    "from sklearn.metrics import roc_auc_score \n",
    "import matplotlib.pyplot as plt \n",
    "%matplotlib inline\n",
    "\n",
    "\n",
    "def plt_dynamic(x, vy, ty, ax, colors=['b']):\n",
    "    ax.plot(x, vy, 'b', label=\"Validation Loss\")\n",
    "    ax.plot(x, ty, 'r', label=\"Train Loss\")\n",
    "    plt.legend()\n",
    "    plt.grid()\n",
    "    fig.canvas.draw()"
   ]
  },
  {
   "cell_type": "code",
   "execution_count": 0,
   "metadata": {
    "colab": {},
    "colab_type": "code",
    "id": "4xEHeP-rS43k"
   },
   "outputs": [],
   "source": [
    "n_lstm_1 = 100\n",
    "drop_lstm = 0.3\n",
    "drop_embed = 0.3\n",
    "\n",
    "qu1_input = Input(shape = (20,))\n",
    "#drop1 = SpatialDropout1D(drop_embed)(qu1_input)\n",
    "#drop1 = SpatialDropout1D(drop_embed)(qu1_input)\n",
    "emb1 = Embedding(vocab1,64)(qu1_input)\n",
    "\n",
    "qu2_input = Input(shape = (20,))\n",
    "\n",
    "#drop2 = SpatialDropout1D(drop_embed)(qu2_input)\n",
    "emb2 = Embedding(vocab2,64)(qu2_input)\n",
    "\n",
    "\n",
    "core = Bidirectional(LSTM(64, dropout=drop_lstm ))\n",
    "\n",
    "# out_core = Bidirectional(LSTM(n_lstm_1, dropout=drop_lstm))\n",
    "\n",
    "out1 = core(emb1)\n",
    "\n",
    "# out_further_1 = out_core(out1)\n",
    "out2 = core(emb2)\n",
    "\n",
    "\n",
    "\n",
    "\n",
    "merged = concatenate([out1,out2])\n",
    "predictions = Dense(1,activation = 'sigmoid')(merged)\n",
    "\n",
    "model = Model([qu1_input, qu2_input], predictions)"
   ]
  },
  {
   "cell_type": "code",
   "execution_count": 119,
   "metadata": {
    "colab": {
     "base_uri": "https://localhost:8080/",
     "height": 435
    },
    "colab_type": "code",
    "id": "-C85XYzyfeOt",
    "outputId": "5f279cdc-8ed6-4107-9ece-5d23c2b73dbf"
   },
   "outputs": [
    {
     "name": "stdout",
     "output_type": "stream",
     "text": [
      "__________________________________________________________________________________________________\n",
      "Layer (type)                    Output Shape         Param #     Connected to                     \n",
      "==================================================================================================\n",
      "input_18 (InputLayer)           (None, 20)           0                                            \n",
      "__________________________________________________________________________________________________\n",
      "input_19 (InputLayer)           (None, 20)           0                                            \n",
      "__________________________________________________________________________________________________\n",
      "embedding_15 (Embedding)        (None, 20, 64)       4732736     input_18[0][0]                   \n",
      "__________________________________________________________________________________________________\n",
      "embedding_16 (Embedding)        (None, 20, 64)       4361792     input_19[0][0]                   \n",
      "__________________________________________________________________________________________________\n",
      "bidirectional_12 (Bidirectional (None, 128)          66048       embedding_15[0][0]               \n",
      "                                                                 embedding_16[0][0]               \n",
      "__________________________________________________________________________________________________\n",
      "concatenate_2 (Concatenate)     (None, 256)          0           bidirectional_12[0][0]           \n",
      "                                                                 bidirectional_12[1][0]           \n",
      "__________________________________________________________________________________________________\n",
      "dense_2 (Dense)                 (None, 1)            257         concatenate_2[0][0]              \n",
      "==================================================================================================\n",
      "Total params: 9,160,833\n",
      "Trainable params: 9,160,833\n",
      "Non-trainable params: 0\n",
      "__________________________________________________________________________________________________\n"
     ]
    }
   ],
   "source": [
    "\n",
    "model.summary()"
   ]
  },
  {
   "cell_type": "code",
   "execution_count": 0,
   "metadata": {
    "colab": {},
    "colab_type": "code",
    "id": "36D8VW81mTVK"
   },
   "outputs": [],
   "source": [
    "from sklearn.model_selection import train_test_split"
   ]
  },
  {
   "cell_type": "code",
   "execution_count": 129,
   "metadata": {
    "colab": {
     "base_uri": "https://localhost:8080/",
     "height": 35
    },
    "colab_type": "code",
    "id": "ZlrdGW36m9jn",
    "outputId": "d383fe4c-1b8c-4ae6-8cc0-29406debbe10"
   },
   "outputs": [
    {
     "data": {
      "text/plain": [
       "404290"
      ]
     },
     "execution_count": 129,
     "metadata": {
      "tags": []
     },
     "output_type": "execute_result"
    }
   ],
   "source": [
    "len(question1)"
   ]
  },
  {
   "cell_type": "code",
   "execution_count": 130,
   "metadata": {
    "colab": {
     "base_uri": "https://localhost:8080/",
     "height": 35
    },
    "colab_type": "code",
    "id": "KokowkYCnljc",
    "outputId": "71da8207-93b2-469c-9ef7-744364377f58"
   },
   "outputs": [
    {
     "data": {
      "text/plain": [
       "121287.0"
      ]
     },
     "execution_count": 130,
     "metadata": {
      "tags": []
     },
     "output_type": "execute_result"
    }
   ],
   "source": [
    "0.3*len(question1)"
   ]
  },
  {
   "cell_type": "code",
   "execution_count": 0,
   "metadata": {
    "colab": {},
    "colab_type": "code",
    "id": "VFwuUKVVnrGo"
   },
   "outputs": [],
   "source": [
    "X_validq1 = question1[:100000,:]\n",
    "X_validq2 = question2[:100000,:]\n",
    "question1 = question1[100000:]\n",
    "question2 = question2[100000:]\n",
    "\n",
    "y_valid = labels[:100000]\n",
    "labels = labels[100000:]"
   ]
  },
  {
   "cell_type": "code",
   "execution_count": 132,
   "metadata": {
    "colab": {
     "base_uri": "https://localhost:8080/",
     "height": 854
    },
    "colab_type": "code",
    "id": "WEL-lqNkmjYB",
    "outputId": "85d1ae8f-4d80-4105-d7cb-6aef2439268e"
   },
   "outputs": [
    {
     "data": {
      "text/plain": [
       "array([0, 0, 0, 0, 0, 1, 0, 1, 0, 0, 0, 1, 1, 1, 0, 1, 1, 0, 1, 0, 1, 0,\n",
       "       0, 0, 0, 0, 0, 0, 0, 1, 0, 1, 1, 0, 0, 0, 0, 0, 1, 0, 0, 0, 0, 0,\n",
       "       0, 0, 0, 0, 1, 1, 1, 1, 0, 1, 0, 0, 0, 0, 1, 0, 0, 0, 1, 0, 0, 1,\n",
       "       1, 1, 0, 0, 0, 1, 1, 1, 1, 0, 0, 0, 0, 1, 0, 0, 0, 0, 1, 1, 1, 0,\n",
       "       1, 0, 0, 0, 1, 1, 0, 1, 0, 0, 0, 0, 1, 0, 0, 0, 1, 0, 0, 1, 0, 0,\n",
       "       0, 0, 0, 1, 0, 0, 0, 0, 0, 0, 1, 0, 1, 0, 0, 1, 0, 1, 0, 0, 0, 0,\n",
       "       0, 0, 0, 1, 1, 0, 0, 0, 0, 0, 0, 1, 1, 0, 0, 0, 0, 0, 0, 0, 1, 0,\n",
       "       0, 0, 1, 0, 1, 1, 1, 0, 0, 1, 0, 1, 0, 0, 1, 0, 0, 0, 0, 1, 0, 1,\n",
       "       1, 0, 1, 1, 1, 0, 1, 0, 0, 1, 0, 0, 1, 1, 1, 1, 0, 1, 1, 0, 0, 1,\n",
       "       1, 1, 1, 0, 0, 1, 0, 0, 0, 0, 0, 1, 1, 0, 0, 0, 0, 1, 1, 0, 0, 1,\n",
       "       1, 1, 0, 0, 1, 0, 1, 0, 0, 1, 0, 0, 0, 0, 0, 1, 1, 0, 1, 0, 0, 0,\n",
       "       1, 1, 1, 0, 1, 0, 0, 1, 1, 1, 0, 1, 0, 1, 0, 0, 0, 0, 1, 1, 1, 0,\n",
       "       0, 0, 0, 1, 0, 1, 1, 0, 0, 1, 1, 1, 0, 0, 0, 0, 0, 1, 0, 0, 1, 1,\n",
       "       1, 1, 1, 0, 0, 1, 0, 1, 0, 1, 1, 0, 0, 1, 0, 0, 0, 0, 1, 0, 0, 1,\n",
       "       1, 1, 0, 0, 1, 0, 0, 0, 0, 1, 1, 0, 0, 1, 1, 1, 0, 0, 1, 0, 0, 1,\n",
       "       0, 1, 0, 0, 0, 0, 0, 0, 0, 1, 0, 1, 0, 0, 0, 0, 1, 1, 1, 1, 1, 0,\n",
       "       0, 1, 0, 0, 0, 0, 0, 0, 0, 0, 0, 0, 1, 1, 0, 0, 1, 0, 0, 0, 0, 1,\n",
       "       0, 0, 0, 1, 0, 0, 1, 0, 0, 1, 0, 0, 0, 0, 0, 0, 1, 0, 0, 1, 1, 1,\n",
       "       0, 1, 0, 1, 1, 0, 1, 1, 1, 1, 0, 0, 0, 1, 1, 0, 1, 0, 0, 1, 0, 0,\n",
       "       0, 0, 0, 1, 1, 0, 0, 0, 0, 0, 1, 0, 1, 1, 1, 0, 0, 0, 0, 0, 0, 1,\n",
       "       0, 0, 1, 1, 0, 1, 1, 0, 0, 0, 1, 1, 0, 0, 0, 0, 0, 1, 1, 1, 1, 1,\n",
       "       1, 0, 1, 0, 0, 0, 1, 0, 0, 0, 0, 0, 0, 0, 1, 0, 0, 1, 0, 0, 0, 1,\n",
       "       1, 0, 0, 0, 1, 1, 0, 1, 0, 1, 0, 0, 0, 0, 0, 0, 0, 1, 0, 1, 0, 1,\n",
       "       1, 1, 1, 0, 0, 0, 0, 1, 0, 1, 0, 1, 1, 0, 1, 0, 0, 0, 0, 0, 0, 1,\n",
       "       0, 0, 0, 0, 1, 1, 1, 1, 1, 0, 1, 0, 1, 0, 0, 0, 1, 0, 0, 1, 0, 1,\n",
       "       0, 1, 0, 1, 0, 1, 0, 1, 1, 0, 0, 1, 0, 0, 1, 0, 0, 0, 0, 1, 0, 1,\n",
       "       0, 1, 0, 0, 0, 1, 0, 0, 1, 0, 0, 1, 1, 0, 1, 0, 0, 0, 1, 0, 1, 1,\n",
       "       1, 1, 0, 0, 0, 0, 1, 0, 1, 0, 0, 0, 0, 1, 1, 1, 0, 0, 0, 0, 0, 0,\n",
       "       0, 1, 1, 1, 1, 0, 0, 0, 0, 1, 1, 0, 0, 0, 1, 0, 0, 0, 0, 0, 1, 1,\n",
       "       0, 0, 0, 1, 0, 0, 1, 0, 0, 1, 1, 0, 1, 0, 1, 0, 1, 0, 1, 0, 1, 0,\n",
       "       1, 1, 0, 1, 1, 1, 0, 0, 0, 0, 0, 0, 0, 0, 0, 1, 1, 0, 1, 0, 1, 0,\n",
       "       0, 0, 0, 0, 0, 0, 1, 1, 0, 0, 0, 0, 0, 0, 1, 0, 0, 1, 1, 0, 1, 0,\n",
       "       1, 1, 0, 1, 0, 0, 0, 0, 0, 1, 0, 0, 0, 0, 0, 0, 0, 1, 1, 0, 0, 0,\n",
       "       1, 1, 1, 1, 0, 0, 0, 0, 1, 1, 0, 0, 0, 1, 0, 0, 1, 0, 0, 0, 1, 0,\n",
       "       0, 0, 1, 0, 1, 0, 0, 1, 0, 0, 0, 0, 1, 1, 0, 0, 0, 0, 1, 0, 0, 0,\n",
       "       0, 0, 1, 1, 0, 0, 0, 0, 0, 1, 0, 1, 0, 0, 1, 1, 0, 1, 0, 0, 1, 1,\n",
       "       0, 0, 0, 0, 1, 0, 1, 0, 1, 0, 0, 1, 0, 1, 1, 0, 0, 0, 0, 0, 1, 0,\n",
       "       0, 1, 0, 1, 0, 1, 0, 0, 0, 0, 0, 1, 0, 1, 1, 0, 1, 0, 0, 0, 1, 1,\n",
       "       1, 1, 0, 0, 1, 0, 0, 0, 0, 0, 0, 0, 1, 1, 1, 0, 1, 0, 0, 1, 1, 0,\n",
       "       1, 1, 0, 1, 0, 1, 0, 0, 0, 0, 0, 1, 0, 0, 1, 0, 1, 0, 1, 1, 0, 0,\n",
       "       1, 0, 0, 0, 0, 0, 0, 0, 0, 1, 1, 1, 1, 1, 0, 0, 0, 0, 1, 0, 0, 0,\n",
       "       0, 1, 1, 1, 1, 1, 1, 0, 0, 0, 0, 0, 0, 1, 1, 1, 1, 1, 0, 0, 1, 1,\n",
       "       0, 0, 0, 0, 0, 1, 1, 0, 0, 0, 1, 0, 0, 0, 1, 1, 0, 0, 0, 1, 0, 1,\n",
       "       1, 0, 0, 1, 0, 1, 1, 1, 1, 0, 1, 0, 1, 1, 0, 0, 1, 0, 0, 0, 1, 1,\n",
       "       1, 1, 0, 0, 0, 1, 0, 0, 0, 0, 0, 0, 1, 0, 0, 1, 0, 1, 0, 0, 0, 1,\n",
       "       0, 1, 0, 0, 0, 0, 0, 0, 1, 0])"
      ]
     },
     "execution_count": 132,
     "metadata": {
      "tags": []
     },
     "output_type": "execute_result"
    }
   ],
   "source": [
    "labels[:10]"
   ]
  },
  {
   "cell_type": "code",
   "execution_count": 0,
   "metadata": {
    "colab": {},
    "colab_type": "code",
    "id": "xyzWSV30ix8m"
   },
   "outputs": [],
   "source": [
    "model.compile(loss='binary_crossentropy', optimizer='adam', metrics=['accuracy'])"
   ]
  },
  {
   "cell_type": "code",
   "execution_count": 135,
   "metadata": {
    "colab": {
     "base_uri": "https://localhost:8080/",
     "height": 1490
    },
    "colab_type": "code",
    "id": "pGvGTNuYjc6F",
    "outputId": "2cab7bb8-5f18-4c2f-ff32-74b9d65792a2"
   },
   "outputs": [
    {
     "name": "stdout",
     "output_type": "stream",
     "text": [
      "Train on 304290 samples, validate on 100000 samples\n",
      "Epoch 1/40\n",
      "304290/304290 [==============================] - 172s 564us/step - loss: 0.3642 - acc: 0.8310 - val_loss: 0.3707 - val_acc: 0.8275\n",
      "Epoch 2/40\n",
      "304290/304290 [==============================] - 176s 578us/step - loss: 0.3200 - acc: 0.8525 - val_loss: 0.3948 - val_acc: 0.8191\n",
      "Epoch 3/40\n",
      "304290/304290 [==============================] - 169s 554us/step - loss: 0.2852 - acc: 0.8693 - val_loss: 0.4230 - val_acc: 0.8109\n",
      "Epoch 4/40\n",
      "304290/304290 [==============================] - 169s 554us/step - loss: 0.2564 - acc: 0.8830 - val_loss: 0.4651 - val_acc: 0.8022\n",
      "Epoch 5/40\n",
      "304290/304290 [==============================] - 167s 550us/step - loss: 0.2325 - acc: 0.8946 - val_loss: 0.4901 - val_acc: 0.8025\n",
      "Epoch 6/40\n",
      "304290/304290 [==============================] - 166s 547us/step - loss: 0.2132 - acc: 0.9041 - val_loss: 0.5426 - val_acc: 0.7913\n",
      "Epoch 7/40\n",
      "304290/304290 [==============================] - 175s 575us/step - loss: 0.1970 - acc: 0.9123 - val_loss: 0.5744 - val_acc: 0.7946\n",
      "Epoch 8/40\n",
      "304290/304290 [==============================] - 171s 561us/step - loss: 0.1825 - acc: 0.9191 - val_loss: 0.6148 - val_acc: 0.7939\n",
      "Epoch 9/40\n",
      "304290/304290 [==============================] - 169s 555us/step - loss: 0.1699 - acc: 0.9252 - val_loss: 0.6676 - val_acc: 0.7908\n",
      "Epoch 10/40\n",
      "304290/304290 [==============================] - 169s 555us/step - loss: 0.1596 - acc: 0.9295 - val_loss: 0.7175 - val_acc: 0.7918\n",
      "Epoch 11/40\n",
      "304290/304290 [==============================] - 161s 530us/step - loss: 0.1504 - acc: 0.9344 - val_loss: 0.7534 - val_acc: 0.7892\n",
      "Epoch 12/40\n",
      "304290/304290 [==============================] - 172s 565us/step - loss: 0.1405 - acc: 0.9388 - val_loss: 0.8215 - val_acc: 0.7903\n",
      "Epoch 13/40\n",
      "304290/304290 [==============================] - 173s 568us/step - loss: 0.1346 - acc: 0.9414 - val_loss: 0.8431 - val_acc: 0.7856\n",
      "Epoch 14/40\n",
      "304290/304290 [==============================] - 165s 543us/step - loss: 0.1282 - acc: 0.9443 - val_loss: 0.8676 - val_acc: 0.7916\n",
      "Epoch 15/40\n",
      "304290/304290 [==============================] - 169s 556us/step - loss: 0.1213 - acc: 0.9479 - val_loss: 0.8800 - val_acc: 0.7882\n",
      "Epoch 16/40\n",
      "304290/304290 [==============================] - 165s 544us/step - loss: 0.1167 - acc: 0.9499 - val_loss: 0.9048 - val_acc: 0.7846\n",
      "Epoch 17/40\n",
      "304290/304290 [==============================] - 167s 548us/step - loss: 0.1112 - acc: 0.9522 - val_loss: 0.9639 - val_acc: 0.7829\n",
      "Epoch 18/40\n",
      "304290/304290 [==============================] - 175s 575us/step - loss: 0.1067 - acc: 0.9544 - val_loss: 0.9897 - val_acc: 0.7865\n",
      "Epoch 19/40\n",
      "304290/304290 [==============================] - 169s 555us/step - loss: 0.1005 - acc: 0.9572 - val_loss: 1.0217 - val_acc: 0.7870\n",
      "Epoch 20/40\n",
      "304290/304290 [==============================] - 168s 551us/step - loss: 0.0988 - acc: 0.9585 - val_loss: 1.0456 - val_acc: 0.7823\n",
      "Epoch 21/40\n",
      "304290/304290 [==============================] - 166s 547us/step - loss: 0.0929 - acc: 0.9606 - val_loss: 1.0933 - val_acc: 0.7832\n",
      "Epoch 22/40\n",
      "304290/304290 [==============================] - 166s 544us/step - loss: 0.0902 - acc: 0.9620 - val_loss: 1.1222 - val_acc: 0.7785\n",
      "Epoch 23/40\n",
      "304290/304290 [==============================] - 165s 542us/step - loss: 0.0869 - acc: 0.9638 - val_loss: 1.1008 - val_acc: 0.7837\n",
      "Epoch 24/40\n",
      "304290/304290 [==============================] - 165s 543us/step - loss: 0.0839 - acc: 0.9653 - val_loss: 1.1354 - val_acc: 0.7849\n",
      "Epoch 25/40\n",
      "304290/304290 [==============================] - 165s 543us/step - loss: 0.0803 - acc: 0.9666 - val_loss: 1.1664 - val_acc: 0.7830\n",
      "Epoch 26/40\n",
      "304290/304290 [==============================] - 165s 543us/step - loss: 0.0769 - acc: 0.9684 - val_loss: 1.2111 - val_acc: 0.7743\n",
      "Epoch 27/40\n",
      "304290/304290 [==============================] - 164s 540us/step - loss: 0.0746 - acc: 0.9689 - val_loss: 1.2179 - val_acc: 0.7805\n",
      "Epoch 28/40\n",
      "304290/304290 [==============================] - 165s 542us/step - loss: 0.0719 - acc: 0.9705 - val_loss: 1.2662 - val_acc: 0.7805\n",
      "Epoch 29/40\n",
      "304290/304290 [==============================] - 167s 550us/step - loss: 0.0704 - acc: 0.9710 - val_loss: 1.2722 - val_acc: 0.7797\n",
      "Epoch 30/40\n",
      "304290/304290 [==============================] - 163s 537us/step - loss: 0.0710 - acc: 0.9709 - val_loss: 1.2531 - val_acc: 0.7770\n",
      "Epoch 31/40\n",
      "304290/304290 [==============================] - 164s 539us/step - loss: 0.0669 - acc: 0.9727 - val_loss: 1.2847 - val_acc: 0.7780\n",
      "Epoch 32/40\n",
      "304290/304290 [==============================] - 167s 549us/step - loss: 0.0646 - acc: 0.9735 - val_loss: 1.3264 - val_acc: 0.7789\n",
      "Epoch 33/40\n",
      "304290/304290 [==============================] - 170s 560us/step - loss: 0.0616 - acc: 0.9749 - val_loss: 1.3271 - val_acc: 0.7737\n",
      "Epoch 34/40\n",
      "304290/304290 [==============================] - 168s 551us/step - loss: 0.0604 - acc: 0.9757 - val_loss: 1.3599 - val_acc: 0.7770\n",
      "Epoch 35/40\n",
      "304290/304290 [==============================] - 167s 549us/step - loss: 0.0589 - acc: 0.9761 - val_loss: 1.3407 - val_acc: 0.7782\n",
      "Epoch 36/40\n",
      "304290/304290 [==============================] - 168s 552us/step - loss: 0.0570 - acc: 0.9769 - val_loss: 1.3818 - val_acc: 0.7782\n",
      "Epoch 37/40\n",
      "304290/304290 [==============================] - 167s 550us/step - loss: 0.0561 - acc: 0.9774 - val_loss: 1.3910 - val_acc: 0.7766\n",
      "Epoch 38/40\n",
      "304290/304290 [==============================] - 168s 551us/step - loss: 0.0549 - acc: 0.9780 - val_loss: 1.4197 - val_acc: 0.7745\n",
      "Epoch 39/40\n",
      "304290/304290 [==============================] - 170s 559us/step - loss: 0.0544 - acc: 0.9785 - val_loss: 1.3854 - val_acc: 0.7783\n",
      "Epoch 40/40\n",
      "304290/304290 [==============================] - 170s 557us/step - loss: 0.0518 - acc: 0.9792 - val_loss: 1.4237 - val_acc: 0.7780\n"
     ]
    }
   ],
   "source": [
    "history = model.fit([question1,question2],labels,epochs = 40,batch_size = 512,validation_data = ([X_validq1,X_validq2],y_valid))"
   ]
  },
  {
   "cell_type": "code",
   "execution_count": 0,
   "metadata": {
    "colab": {},
    "colab_type": "code",
    "id": "XIz4vOlvkENE"
   },
   "outputs": [],
   "source": []
  },
  {
   "cell_type": "code",
   "execution_count": 0,
   "metadata": {
    "colab": {},
    "colab_type": "code",
    "id": "9uw_f_avfJts"
   },
   "outputs": [],
   "source": []
  },
  {
   "cell_type": "code",
   "execution_count": 136,
   "metadata": {
    "colab": {
     "base_uri": "https://localhost:8080/",
     "height": 1490
    },
    "colab_type": "code",
    "id": "zVp8s_9ecirx",
    "outputId": "f1f985ac-cbbe-4227-e8ca-33579e673f4d"
   },
   "outputs": [
    {
     "name": "stdout",
     "output_type": "stream",
     "text": [
      "Train on 304290 samples, validate on 100000 samples\n",
      "Epoch 1/40\n",
      "304290/304290 [==============================] - 174s 572us/step - loss: 0.0513 - acc: 0.9793 - val_loss: 1.4221 - val_acc: 0.7772\n",
      "Epoch 2/40\n",
      "304290/304290 [==============================] - 170s 560us/step - loss: 0.0508 - acc: 0.9794 - val_loss: 1.4492 - val_acc: 0.7768\n",
      "Epoch 3/40\n",
      "304290/304290 [==============================] - 171s 561us/step - loss: 0.0493 - acc: 0.9803 - val_loss: 1.4428 - val_acc: 0.7766\n",
      "Epoch 4/40\n",
      "304290/304290 [==============================] - 171s 560us/step - loss: 0.0471 - acc: 0.9809 - val_loss: 1.4855 - val_acc: 0.7731\n",
      "Epoch 5/40\n",
      "304290/304290 [==============================] - 170s 559us/step - loss: 0.0460 - acc: 0.9816 - val_loss: 1.4668 - val_acc: 0.7767\n",
      "Epoch 6/40\n",
      "304290/304290 [==============================] - 171s 563us/step - loss: 0.0456 - acc: 0.9822 - val_loss: 1.4932 - val_acc: 0.7776\n",
      "Epoch 7/40\n",
      "304290/304290 [==============================] - 169s 556us/step - loss: 0.0437 - acc: 0.9826 - val_loss: 1.5330 - val_acc: 0.7716\n",
      "Epoch 8/40\n",
      "304290/304290 [==============================] - 173s 569us/step - loss: 0.0434 - acc: 0.9830 - val_loss: 1.5476 - val_acc: 0.7718\n",
      "Epoch 9/40\n",
      "304290/304290 [==============================] - 171s 561us/step - loss: 0.0427 - acc: 0.9831 - val_loss: 1.5717 - val_acc: 0.7705\n",
      "Epoch 10/40\n",
      "304290/304290 [==============================] - 172s 565us/step - loss: 0.0424 - acc: 0.9835 - val_loss: 1.5436 - val_acc: 0.7738\n",
      "Epoch 11/40\n",
      "304290/304290 [==============================] - 170s 558us/step - loss: 0.0413 - acc: 0.9837 - val_loss: 1.5686 - val_acc: 0.7757\n",
      "Epoch 12/40\n",
      "304290/304290 [==============================] - 168s 553us/step - loss: 0.0394 - acc: 0.9847 - val_loss: 1.6120 - val_acc: 0.7755\n",
      "Epoch 13/40\n",
      "304290/304290 [==============================] - 172s 564us/step - loss: 0.0395 - acc: 0.9844 - val_loss: 1.6069 - val_acc: 0.7741\n",
      "Epoch 14/40\n",
      "304290/304290 [==============================] - 170s 559us/step - loss: 0.0384 - acc: 0.9849 - val_loss: 1.6004 - val_acc: 0.7753\n",
      "Epoch 15/40\n",
      "304290/304290 [==============================] - 171s 562us/step - loss: 0.0394 - acc: 0.9845 - val_loss: 1.6457 - val_acc: 0.7746\n",
      "Epoch 16/40\n",
      "304290/304290 [==============================] - 170s 560us/step - loss: 0.0377 - acc: 0.9853 - val_loss: 1.6198 - val_acc: 0.7743\n",
      "Epoch 17/40\n",
      "304290/304290 [==============================] - 171s 561us/step - loss: 0.0377 - acc: 0.9854 - val_loss: 1.6284 - val_acc: 0.7756\n",
      "Epoch 18/40\n",
      "304290/304290 [==============================] - 175s 575us/step - loss: 0.0382 - acc: 0.9852 - val_loss: 1.6127 - val_acc: 0.7747\n",
      "Epoch 19/40\n",
      "304290/304290 [==============================] - 174s 573us/step - loss: 0.0360 - acc: 0.9860 - val_loss: 1.6317 - val_acc: 0.7753\n",
      "Epoch 20/40\n",
      "304290/304290 [==============================] - 172s 566us/step - loss: 0.0356 - acc: 0.9864 - val_loss: 1.6188 - val_acc: 0.7758\n",
      "Epoch 21/40\n",
      "304290/304290 [==============================] - 172s 566us/step - loss: 0.0347 - acc: 0.9866 - val_loss: 1.6282 - val_acc: 0.7748\n",
      "Epoch 22/40\n",
      "304290/304290 [==============================] - 172s 567us/step - loss: 0.0337 - acc: 0.9868 - val_loss: 1.6511 - val_acc: 0.7732\n",
      "Epoch 23/40\n",
      "304290/304290 [==============================] - 172s 566us/step - loss: 0.0327 - acc: 0.9874 - val_loss: 1.6203 - val_acc: 0.7710\n",
      "Epoch 24/40\n",
      "304290/304290 [==============================] - 172s 565us/step - loss: 0.0336 - acc: 0.9869 - val_loss: 1.7050 - val_acc: 0.7714\n",
      "Epoch 25/40\n",
      "304290/304290 [==============================] - 171s 564us/step - loss: 0.0334 - acc: 0.9871 - val_loss: 1.6916 - val_acc: 0.7721\n",
      "Epoch 26/40\n",
      "304290/304290 [==============================] - 170s 560us/step - loss: 0.0332 - acc: 0.9872 - val_loss: 1.6946 - val_acc: 0.7733\n",
      "Epoch 27/40\n",
      "304290/304290 [==============================] - 170s 559us/step - loss: 0.0324 - acc: 0.9875 - val_loss: 1.7037 - val_acc: 0.7728\n",
      "Epoch 28/40\n",
      "304290/304290 [==============================] - 170s 560us/step - loss: 0.0308 - acc: 0.9883 - val_loss: 1.6984 - val_acc: 0.7727\n",
      "Epoch 29/40\n",
      "304290/304290 [==============================] - 171s 563us/step - loss: 0.0307 - acc: 0.9883 - val_loss: 1.7228 - val_acc: 0.7741\n",
      "Epoch 30/40\n",
      "304290/304290 [==============================] - 175s 573us/step - loss: 0.0304 - acc: 0.9881 - val_loss: 1.7440 - val_acc: 0.7764\n",
      "Epoch 31/40\n",
      "304290/304290 [==============================] - 172s 565us/step - loss: 0.0305 - acc: 0.9881 - val_loss: 1.7383 - val_acc: 0.7714\n",
      "Epoch 32/40\n",
      "304290/304290 [==============================] - 171s 561us/step - loss: 0.0297 - acc: 0.9885 - val_loss: 1.7133 - val_acc: 0.7714\n",
      "Epoch 33/40\n",
      "304290/304290 [==============================] - 171s 563us/step - loss: 0.0288 - acc: 0.9889 - val_loss: 1.7160 - val_acc: 0.7748\n",
      "Epoch 34/40\n",
      "304290/304290 [==============================] - 171s 561us/step - loss: 0.0302 - acc: 0.9886 - val_loss: 1.7197 - val_acc: 0.7691\n",
      "Epoch 35/40\n",
      "304290/304290 [==============================] - 171s 561us/step - loss: 0.0295 - acc: 0.9885 - val_loss: 1.7455 - val_acc: 0.7730\n",
      "Epoch 36/40\n",
      "304290/304290 [==============================] - 168s 551us/step - loss: 0.0293 - acc: 0.9887 - val_loss: 1.7378 - val_acc: 0.7743\n",
      "Epoch 37/40\n",
      "304290/304290 [==============================] - 170s 560us/step - loss: 0.0293 - acc: 0.9886 - val_loss: 1.7633 - val_acc: 0.7702\n",
      "Epoch 38/40\n",
      "304290/304290 [==============================] - 167s 550us/step - loss: 0.0286 - acc: 0.9891 - val_loss: 1.7821 - val_acc: 0.7739\n",
      "Epoch 39/40\n",
      "304290/304290 [==============================] - 170s 559us/step - loss: 0.0274 - acc: 0.9896 - val_loss: 1.7631 - val_acc: 0.7723\n",
      "Epoch 40/40\n",
      "304290/304290 [==============================] - 175s 574us/step - loss: 0.0276 - acc: 0.9896 - val_loss: 1.8035 - val_acc: 0.7742\n"
     ]
    }
   ],
   "source": [
    "#trial 2\n",
    "n_lstm_1 = 100\n",
    "drop_lstm = 0.3\n",
    "drop_embed = 0.3\n",
    "\n",
    "qu1_input = Input(shape = (20,))\n",
    "#drop1 = SpatialDropout1D(drop_embed)(qu1_input)\n",
    "#drop1 = SpatialDropout1D(drop_embed)(qu1_input)\n",
    "emb1 = Embedding(vocab1,128)(qu1_input)\n",
    "\n",
    "qu2_input = Input(shape = (20,))\n",
    "\n",
    "#drop2 = SpatialDropout1D(drop_embed)(qu2_input)\n",
    "emb2 = Embedding(vocab2,128)(qu2_input)\n",
    "\n",
    "\n",
    "core = Bidirectional(LSTM(128, dropout=drop_lstm ))\n",
    "\n",
    "# out_core = Bidirectional(LSTM(n_lstm_1, dropout=drop_lstm))\n",
    "\n",
    "out1 = core(emb1)\n",
    "\n",
    "# out_further_1 = out_core(out1)\n",
    "out2 = core(emb2)\n",
    "\n",
    "\n",
    "\n",
    "\n",
    "merged = concatenate([out1,out2])\n",
    "predictions = Dense(1,activation = 'sigmoid')(merged)\n",
    "\n",
    "model_big = Model([qu1_input, qu2_input], predictions)\n",
    "\n",
    "model_big.compile(loss='binary_crossentropy', optimizer='sgd', metrics=['accuracy'])\n",
    "\n",
    "\n",
    "history_big = model.fit([question1,question2],labels,epochs = 40,batch_size = 512,validation_data = ([X_validq1,X_validq2],y_valid))  #model big"
   ]
  },
  {
   "cell_type": "code",
   "execution_count": 0,
   "metadata": {
    "colab": {},
    "colab_type": "code",
    "id": "vMoPSPxyQr4P"
   },
   "outputs": [],
   "source": []
  },
  {
   "cell_type": "code",
   "execution_count": 0,
   "metadata": {
    "colab": {},
    "colab_type": "code",
    "id": "c3iQYlBjLVGg"
   },
   "outputs": [],
   "source": []
  }
 ],
 "metadata": {
  "accelerator": "GPU",
  "colab": {
   "name": "quora_deeplearning.ipynb",
   "provenance": [],
   "version": "0.3.2"
  },
  "kernelspec": {
   "display_name": "Python 3",
   "language": "python",
   "name": "python3"
  },
  "language_info": {
   "codemirror_mode": {
    "name": "ipython",
    "version": 3
   },
   "file_extension": ".py",
   "mimetype": "text/x-python",
   "name": "python",
   "nbconvert_exporter": "python",
   "pygments_lexer": "ipython3",
   "version": "3.6.6"
  }
 },
 "nbformat": 4,
 "nbformat_minor": 1
}
